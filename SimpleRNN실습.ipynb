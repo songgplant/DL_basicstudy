{
  "nbformat": 4,
  "nbformat_minor": 0,
  "metadata": {
    "colab": {
      "provenance": [],
      "collapsed_sections": [],
      "include_colab_link": true
    },
    "kernelspec": {
      "name": "python3",
      "display_name": "Python 3"
    },
    "language_info": {
      "name": "python"
    }
  },
  "cells": [
    {
      "cell_type": "markdown",
      "metadata": {
        "id": "view-in-github",
        "colab_type": "text"
      },
      "source": [
        "<a href=\"https://colab.research.google.com/github/songgplant/DL_basicstudy/blob/master/SimpleRNN%EC%8B%A4%EC%8A%B5.ipynb\" target=\"_parent\"><img src=\"https://colab.research.google.com/assets/colab-badge.svg\" alt=\"Open In Colab\"/></a>"
      ]
    },
    {
      "cell_type": "markdown",
      "source": [
        "\n",
        "\n",
        "출처: https://hdevstudy.tistory.com/127 [김인연의 개발 공부:티스토리]\n",
        "\n"
      ],
      "metadata": {
        "id": "uIScfbJsYqhP"
      }
    },
    {
      "cell_type": "markdown",
      "source": [
        "출처 : https://github.com/redpineK/deeplearning"
      ],
      "metadata": {
        "id": "gweyiSghyMS-"
      }
    },
    {
      "cell_type": "code",
      "execution_count": 1,
      "metadata": {
        "id": "Mhf4JCRoYhy8"
      },
      "outputs": [],
      "source": [
        "import numpy as np\n",
        "\n",
        "t = np.arange(0, 1000)\n",
        "x = np.sin(0.02 * t) + np.random.rand(1000) # 랜덤 데이터 1000개 생성\n",
        "train, test = x[0:800], x[800:1000] # 8:2로 나누기\n",
        "#삼성전자 주가 lstm"
      ]
    },
    {
      "cell_type": "code",
      "source": [
        "print(len(train))"
      ],
      "metadata": {
        "colab": {
          "base_uri": "https://localhost:8080/"
        },
        "id": "10J92AA05lZO",
        "outputId": "a92642f1-6357-4e7d-e7e9-f1f69d5be531"
      },
      "execution_count": 2,
      "outputs": [
        {
          "output_type": "stream",
          "name": "stdout",
          "text": [
            "800\n"
          ]
        }
      ]
    },
    {
      "cell_type": "code",
      "source": [
        "print(len(test))"
      ],
      "metadata": {
        "colab": {
          "base_uri": "https://localhost:8080/"
        },
        "id": "ujysHdl4x0qO",
        "outputId": "b8672f25-716a-46f6-b065-e6db0d907493"
      },
      "execution_count": 3,
      "outputs": [
        {
          "output_type": "stream",
          "name": "stdout",
          "text": [
            "200\n"
          ]
        }
      ]
    },
    {
      "cell_type": "code",
      "source": [
        "# INPUT\t\t\t                \tOUTPUT\n",
        "# sin(0) sin(1) sin(2) sin(3)\tsin(4)\n",
        "# sin(1) sin(2) sin(3) sin(4)\tsin(5)\n",
        "# sin(2) sin(3) sin(4) sin(5)\tsin(6)\n",
        "# ...\n",
        "# 월 화 수 목 금"
      ],
      "metadata": {
        "id": "MVgJWaR8YoYm"
      },
      "execution_count": null,
      "outputs": []
    },
    {
      "cell_type": "code",
      "source": [
        "def convert_to_matrix(data, step):\n",
        "    x, y = [], []\n",
        "    for i in range(len(data) - step):\n",
        "        d = i + step  \n",
        "        x.append(data[i:d])\n",
        "        y.append(data[d])\n",
        "    return np.array(x), np.array(y)\n",
        "\n",
        "train = np.append(train, np.repeat(train[-1], 4))\n",
        "test = np.append(test, np.repeat(test[-1], 4))\n",
        "print(len(train))\n",
        "print(len(test))\n",
        "print(train[-5:-1])"
      ],
      "metadata": {
        "id": "BPbkTHoUYyg2",
        "colab": {
          "base_uri": "https://localhost:8080/"
        },
        "outputId": "a1b72b60-ffc0-4dd8-a01e-e88da4e8c078"
      },
      "execution_count": 4,
      "outputs": [
        {
          "output_type": "stream",
          "name": "stdout",
          "text": [
            "804\n",
            "204\n",
            "[-0.12746936 -0.12746936 -0.12746936 -0.12746936]\n"
          ]
        }
      ]
    },
    {
      "cell_type": "code",
      "source": [
        "train_x, train_y = convert_to_matrix(train, 4)\n",
        "test_x, test_y = convert_to_matrix(test, 4)"
      ],
      "metadata": {
        "id": "FOgI-fTxy5X3"
      },
      "execution_count": 5,
      "outputs": []
    },
    {
      "cell_type": "code",
      "source": [
        "len(train_x[0])\n",
        "train_x"
      ],
      "metadata": {
        "colab": {
          "base_uri": "https://localhost:8080/"
        },
        "id": "UuagEtHYzFSz",
        "outputId": "4035a4e0-9969-47f9-8f89-cf9b263d46a2"
      },
      "execution_count": 8,
      "outputs": [
        {
          "output_type": "execute_result",
          "data": {
            "text/plain": [
              "array([[ 0.98553785,  0.18805562,  0.75422107,  0.2688057 ],\n",
              "       [ 0.18805562,  0.75422107,  0.2688057 ,  1.06552793],\n",
              "       [ 0.75422107,  0.2688057 ,  1.06552793,  0.77660641],\n",
              "       ...,\n",
              "       [ 0.44773086, -0.09937393, -0.12746936, -0.12746936],\n",
              "       [-0.09937393, -0.12746936, -0.12746936, -0.12746936],\n",
              "       [-0.12746936, -0.12746936, -0.12746936, -0.12746936]])"
            ]
          },
          "metadata": {},
          "execution_count": 8
        }
      ]
    },
    {
      "cell_type": "code",
      "source": [
        "train_x = np.reshape(train_x, (train_x.shape[0], 1, train_x.shape[1]))\n",
        "test_x = np.reshape(test_x, (test_x.shape[0], 1, test_x.shape[1]))"
      ],
      "metadata": {
        "id": "TYVgtBuqzCfq"
      },
      "execution_count": 9,
      "outputs": []
    },
    {
      "cell_type": "code",
      "source": [
        "train"
      ],
      "metadata": {
        "id": "OHLxL6tY95ba"
      },
      "execution_count": null,
      "outputs": []
    },
    {
      "cell_type": "code",
      "source": [
        "train_y"
      ],
      "metadata": {
        "id": "qEhPHP2o6yyF"
      },
      "execution_count": null,
      "outputs": []
    },
    {
      "cell_type": "markdown",
      "source": [
        "## RNN 네트워크 구성"
      ],
      "metadata": {
        "id": "g9KyW0Mqzmj4"
      }
    },
    {
      "cell_type": "code",
      "source": [
        "from keras.models import Sequential\n",
        "from keras.layers import SimpleRNN, Dense\n",
        "\n",
        "model = Sequential()\n",
        "model.add(SimpleRNN(units=32, input_shape=(1, 4), activation='relu')) # 레이어 추가\n",
        "model.add(Dense(8, activation='relu')) # 8노드 짜리로\n",
        "model.add(Dense(1))\n",
        "model.compile(loss='mse', optimizer='adam', metrics=['acc'])"
      ],
      "metadata": {
        "id": "tf7aWzj7Y9k_"
      },
      "execution_count": 14,
      "outputs": []
    },
    {
      "cell_type": "code",
      "source": [
        "model.summary()\n",
        "\n",
        "# Layer (type)                 Output Shape              Param #   \n",
        "# =================================================================\n",
        "# simple_rnn (SimpleRNN)       (None, 32)                1184      \n",
        "# _________________________________________________________________\n",
        "# dense (Dense)                (None, 8)                 264       \n",
        "# _________________________________________________________________\n",
        "# dense_1 (Dense)              (None, 1)                 9         \n",
        "# =================================================================\n",
        "# Total params: 1,457\n",
        "# Trainable params: 1,457\n",
        "# Non-trainable params: 0\n"
      ],
      "metadata": {
        "colab": {
          "base_uri": "https://localhost:8080/"
        },
        "id": "1eoDRjp1ZBTm",
        "outputId": "524641a5-dd4c-424b-daf8-5d0f5da51e74"
      },
      "execution_count": 15,
      "outputs": [
        {
          "output_type": "stream",
          "name": "stdout",
          "text": [
            "Model: \"sequential\"\n",
            "_________________________________________________________________\n",
            " Layer (type)                Output Shape              Param #   \n",
            "=================================================================\n",
            " simple_rnn (SimpleRNN)      (None, 32)                1184      \n",
            "                                                                 \n",
            " dense (Dense)               (None, 8)                 264       \n",
            "                                                                 \n",
            " dense_1 (Dense)             (None, 1)                 9         \n",
            "                                                                 \n",
            "=================================================================\n",
            "Total params: 1,457\n",
            "Trainable params: 1,457\n",
            "Non-trainable params: 0\n",
            "_________________________________________________________________\n"
          ]
        }
      ]
    },
    {
      "cell_type": "code",
      "source": [
        "history = model.fit(train_x, train_y, epochs=100, batch_size=16)\n"
      ],
      "metadata": {
        "colab": {
          "base_uri": "https://localhost:8080/"
        },
        "id": "Zuk36cRmZHRe",
        "outputId": "d2442822-133c-4e28-c5c9-391eede0eb24"
      },
      "execution_count": 16,
      "outputs": [
        {
          "output_type": "stream",
          "name": "stdout",
          "text": [
            "Epoch 1/100\n",
            "50/50 [==============================] - 1s 2ms/step - loss: 0.3544 - acc: 0.0000e+00\n",
            "Epoch 2/100\n",
            "50/50 [==============================] - 0s 2ms/step - loss: 0.1081 - acc: 0.0000e+00\n",
            "Epoch 3/100\n",
            "50/50 [==============================] - 0s 2ms/step - loss: 0.1038 - acc: 0.0000e+00\n",
            "Epoch 4/100\n",
            "50/50 [==============================] - 0s 2ms/step - loss: 0.1015 - acc: 0.0000e+00\n",
            "Epoch 5/100\n",
            "50/50 [==============================] - 0s 2ms/step - loss: 0.1002 - acc: 0.0000e+00\n",
            "Epoch 6/100\n",
            "50/50 [==============================] - 0s 2ms/step - loss: 0.0987 - acc: 0.0000e+00\n",
            "Epoch 7/100\n",
            "50/50 [==============================] - 0s 2ms/step - loss: 0.0978 - acc: 0.0000e+00\n",
            "Epoch 8/100\n",
            "50/50 [==============================] - 0s 2ms/step - loss: 0.0969 - acc: 0.0000e+00\n",
            "Epoch 9/100\n",
            "50/50 [==============================] - 0s 2ms/step - loss: 0.0971 - acc: 0.0000e+00\n",
            "Epoch 10/100\n",
            "50/50 [==============================] - 0s 2ms/step - loss: 0.0970 - acc: 0.0000e+00\n",
            "Epoch 11/100\n",
            "50/50 [==============================] - 0s 2ms/step - loss: 0.0962 - acc: 0.0000e+00\n",
            "Epoch 12/100\n",
            "50/50 [==============================] - 0s 3ms/step - loss: 0.0965 - acc: 0.0000e+00\n",
            "Epoch 13/100\n",
            "50/50 [==============================] - 0s 2ms/step - loss: 0.0960 - acc: 0.0000e+00\n",
            "Epoch 14/100\n",
            "50/50 [==============================] - 0s 2ms/step - loss: 0.0956 - acc: 0.0000e+00\n",
            "Epoch 15/100\n",
            "50/50 [==============================] - 0s 2ms/step - loss: 0.0956 - acc: 0.0000e+00\n",
            "Epoch 16/100\n",
            "50/50 [==============================] - 0s 2ms/step - loss: 0.0962 - acc: 0.0000e+00\n",
            "Epoch 17/100\n",
            "50/50 [==============================] - 0s 2ms/step - loss: 0.0953 - acc: 0.0000e+00\n",
            "Epoch 18/100\n",
            "50/50 [==============================] - 0s 2ms/step - loss: 0.0951 - acc: 0.0000e+00\n",
            "Epoch 19/100\n",
            "50/50 [==============================] - 0s 2ms/step - loss: 0.0949 - acc: 0.0000e+00\n",
            "Epoch 20/100\n",
            "50/50 [==============================] - 0s 2ms/step - loss: 0.0957 - acc: 0.0000e+00\n",
            "Epoch 21/100\n",
            "50/50 [==============================] - 0s 2ms/step - loss: 0.0943 - acc: 0.0000e+00\n",
            "Epoch 22/100\n",
            "50/50 [==============================] - 0s 2ms/step - loss: 0.0944 - acc: 0.0000e+00\n",
            "Epoch 23/100\n",
            "50/50 [==============================] - 0s 2ms/step - loss: 0.0945 - acc: 0.0000e+00\n",
            "Epoch 24/100\n",
            "50/50 [==============================] - 0s 2ms/step - loss: 0.0942 - acc: 0.0000e+00\n",
            "Epoch 25/100\n",
            "50/50 [==============================] - 0s 2ms/step - loss: 0.0948 - acc: 0.0000e+00\n",
            "Epoch 26/100\n",
            "50/50 [==============================] - 0s 2ms/step - loss: 0.0933 - acc: 0.0000e+00\n",
            "Epoch 27/100\n",
            "50/50 [==============================] - 0s 2ms/step - loss: 0.0936 - acc: 0.0000e+00\n",
            "Epoch 28/100\n",
            "50/50 [==============================] - 0s 2ms/step - loss: 0.0937 - acc: 0.0000e+00\n",
            "Epoch 29/100\n",
            "50/50 [==============================] - 0s 2ms/step - loss: 0.0935 - acc: 0.0000e+00\n",
            "Epoch 30/100\n",
            "50/50 [==============================] - 0s 2ms/step - loss: 0.0940 - acc: 0.0000e+00\n",
            "Epoch 31/100\n",
            "50/50 [==============================] - 0s 2ms/step - loss: 0.0937 - acc: 0.0000e+00\n",
            "Epoch 32/100\n",
            "50/50 [==============================] - 0s 2ms/step - loss: 0.0939 - acc: 0.0000e+00\n",
            "Epoch 33/100\n",
            "50/50 [==============================] - 0s 2ms/step - loss: 0.0928 - acc: 0.0000e+00\n",
            "Epoch 34/100\n",
            "50/50 [==============================] - 0s 2ms/step - loss: 0.0932 - acc: 0.0000e+00\n",
            "Epoch 35/100\n",
            "50/50 [==============================] - 0s 2ms/step - loss: 0.0926 - acc: 0.0000e+00\n",
            "Epoch 36/100\n",
            "50/50 [==============================] - 0s 2ms/step - loss: 0.0953 - acc: 0.0000e+00\n",
            "Epoch 37/100\n",
            "50/50 [==============================] - 0s 2ms/step - loss: 0.0922 - acc: 0.0000e+00\n",
            "Epoch 38/100\n",
            "50/50 [==============================] - 0s 2ms/step - loss: 0.0937 - acc: 0.0000e+00\n",
            "Epoch 39/100\n",
            "50/50 [==============================] - 0s 2ms/step - loss: 0.0944 - acc: 0.0000e+00\n",
            "Epoch 40/100\n",
            "50/50 [==============================] - 0s 2ms/step - loss: 0.0937 - acc: 0.0000e+00\n",
            "Epoch 41/100\n",
            "50/50 [==============================] - 0s 2ms/step - loss: 0.0923 - acc: 0.0000e+00\n",
            "Epoch 42/100\n",
            "50/50 [==============================] - 0s 2ms/step - loss: 0.0910 - acc: 0.0000e+00\n",
            "Epoch 43/100\n",
            "50/50 [==============================] - 0s 2ms/step - loss: 0.0926 - acc: 0.0000e+00\n",
            "Epoch 44/100\n",
            "50/50 [==============================] - 0s 2ms/step - loss: 0.0919 - acc: 0.0000e+00\n",
            "Epoch 45/100\n",
            "50/50 [==============================] - 0s 2ms/step - loss: 0.0931 - acc: 0.0000e+00\n",
            "Epoch 46/100\n",
            "50/50 [==============================] - 0s 2ms/step - loss: 0.0918 - acc: 0.0000e+00\n",
            "Epoch 47/100\n",
            "50/50 [==============================] - 0s 3ms/step - loss: 0.0927 - acc: 0.0000e+00\n",
            "Epoch 48/100\n",
            "50/50 [==============================] - 0s 2ms/step - loss: 0.0931 - acc: 0.0000e+00\n",
            "Epoch 49/100\n",
            "50/50 [==============================] - 0s 2ms/step - loss: 0.0920 - acc: 0.0000e+00\n",
            "Epoch 50/100\n",
            "50/50 [==============================] - 0s 2ms/step - loss: 0.0930 - acc: 0.0000e+00\n",
            "Epoch 51/100\n",
            "50/50 [==============================] - 0s 2ms/step - loss: 0.0926 - acc: 0.0000e+00\n",
            "Epoch 52/100\n",
            "50/50 [==============================] - 0s 2ms/step - loss: 0.0918 - acc: 0.0000e+00\n",
            "Epoch 53/100\n",
            "50/50 [==============================] - 0s 2ms/step - loss: 0.0922 - acc: 0.0000e+00\n",
            "Epoch 54/100\n",
            "50/50 [==============================] - 0s 2ms/step - loss: 0.0915 - acc: 0.0000e+00\n",
            "Epoch 55/100\n",
            "50/50 [==============================] - 0s 2ms/step - loss: 0.0909 - acc: 0.0000e+00\n",
            "Epoch 56/100\n",
            "50/50 [==============================] - 0s 2ms/step - loss: 0.0914 - acc: 0.0000e+00\n",
            "Epoch 57/100\n",
            "50/50 [==============================] - 0s 2ms/step - loss: 0.0911 - acc: 0.0000e+00\n",
            "Epoch 58/100\n",
            "50/50 [==============================] - 0s 2ms/step - loss: 0.0906 - acc: 0.0000e+00\n",
            "Epoch 59/100\n",
            "50/50 [==============================] - 0s 2ms/step - loss: 0.0913 - acc: 0.0000e+00\n",
            "Epoch 60/100\n",
            "50/50 [==============================] - 0s 2ms/step - loss: 0.0912 - acc: 0.0000e+00\n",
            "Epoch 61/100\n",
            "50/50 [==============================] - 0s 2ms/step - loss: 0.0916 - acc: 0.0000e+00\n",
            "Epoch 62/100\n",
            "50/50 [==============================] - 0s 2ms/step - loss: 0.0912 - acc: 0.0000e+00\n",
            "Epoch 63/100\n",
            "50/50 [==============================] - 0s 2ms/step - loss: 0.0921 - acc: 0.0000e+00\n",
            "Epoch 64/100\n",
            "50/50 [==============================] - 0s 2ms/step - loss: 0.0906 - acc: 0.0000e+00\n",
            "Epoch 65/100\n",
            "50/50 [==============================] - 0s 2ms/step - loss: 0.0905 - acc: 0.0000e+00\n",
            "Epoch 66/100\n",
            "50/50 [==============================] - 0s 2ms/step - loss: 0.0912 - acc: 0.0000e+00\n",
            "Epoch 67/100\n",
            "50/50 [==============================] - 0s 2ms/step - loss: 0.0903 - acc: 0.0000e+00\n",
            "Epoch 68/100\n",
            "50/50 [==============================] - 0s 2ms/step - loss: 0.0914 - acc: 0.0000e+00\n",
            "Epoch 69/100\n",
            "50/50 [==============================] - 0s 2ms/step - loss: 0.0914 - acc: 0.0000e+00\n",
            "Epoch 70/100\n",
            "50/50 [==============================] - 0s 2ms/step - loss: 0.0906 - acc: 0.0000e+00\n",
            "Epoch 71/100\n",
            "50/50 [==============================] - 0s 2ms/step - loss: 0.0901 - acc: 0.0000e+00\n",
            "Epoch 72/100\n",
            "50/50 [==============================] - 0s 2ms/step - loss: 0.0929 - acc: 0.0000e+00\n",
            "Epoch 73/100\n",
            "50/50 [==============================] - 0s 2ms/step - loss: 0.0896 - acc: 0.0000e+00\n",
            "Epoch 74/100\n",
            "50/50 [==============================] - 0s 2ms/step - loss: 0.0903 - acc: 0.0000e+00\n",
            "Epoch 75/100\n",
            "50/50 [==============================] - 0s 2ms/step - loss: 0.0900 - acc: 0.0000e+00\n",
            "Epoch 76/100\n",
            "50/50 [==============================] - 0s 2ms/step - loss: 0.0894 - acc: 0.0000e+00\n",
            "Epoch 77/100\n",
            "50/50 [==============================] - 0s 2ms/step - loss: 0.0901 - acc: 0.0000e+00\n",
            "Epoch 78/100\n",
            "50/50 [==============================] - 0s 2ms/step - loss: 0.0894 - acc: 0.0000e+00\n",
            "Epoch 79/100\n",
            "50/50 [==============================] - 0s 2ms/step - loss: 0.0888 - acc: 0.0000e+00\n",
            "Epoch 80/100\n",
            "50/50 [==============================] - 0s 2ms/step - loss: 0.0910 - acc: 0.0000e+00\n",
            "Epoch 81/100\n",
            "50/50 [==============================] - 0s 2ms/step - loss: 0.0896 - acc: 0.0000e+00\n",
            "Epoch 82/100\n",
            "50/50 [==============================] - 0s 2ms/step - loss: 0.0887 - acc: 0.0000e+00\n",
            "Epoch 83/100\n",
            "50/50 [==============================] - 0s 2ms/step - loss: 0.0901 - acc: 0.0000e+00\n",
            "Epoch 84/100\n",
            "50/50 [==============================] - 0s 2ms/step - loss: 0.0893 - acc: 0.0000e+00\n",
            "Epoch 85/100\n",
            "50/50 [==============================] - 0s 2ms/step - loss: 0.0888 - acc: 0.0000e+00\n",
            "Epoch 86/100\n",
            "50/50 [==============================] - 0s 2ms/step - loss: 0.0890 - acc: 0.0000e+00\n",
            "Epoch 87/100\n",
            "50/50 [==============================] - 0s 2ms/step - loss: 0.0897 - acc: 0.0000e+00\n",
            "Epoch 88/100\n",
            "50/50 [==============================] - 0s 2ms/step - loss: 0.0889 - acc: 0.0000e+00\n",
            "Epoch 89/100\n",
            "50/50 [==============================] - 0s 2ms/step - loss: 0.0890 - acc: 0.0000e+00\n",
            "Epoch 90/100\n",
            "50/50 [==============================] - 0s 2ms/step - loss: 0.0891 - acc: 0.0000e+00\n",
            "Epoch 91/100\n",
            "50/50 [==============================] - 0s 2ms/step - loss: 0.0891 - acc: 0.0000e+00\n",
            "Epoch 92/100\n",
            "50/50 [==============================] - 0s 2ms/step - loss: 0.0895 - acc: 0.0000e+00\n",
            "Epoch 93/100\n",
            "50/50 [==============================] - 0s 2ms/step - loss: 0.0885 - acc: 0.0000e+00\n",
            "Epoch 94/100\n",
            "50/50 [==============================] - 0s 2ms/step - loss: 0.0888 - acc: 0.0000e+00\n",
            "Epoch 95/100\n",
            "50/50 [==============================] - 0s 2ms/step - loss: 0.0889 - acc: 0.0000e+00\n",
            "Epoch 96/100\n",
            "50/50 [==============================] - 0s 2ms/step - loss: 0.0897 - acc: 0.0000e+00\n",
            "Epoch 97/100\n",
            "50/50 [==============================] - 0s 2ms/step - loss: 0.0884 - acc: 0.0000e+00\n",
            "Epoch 98/100\n",
            "50/50 [==============================] - 0s 2ms/step - loss: 0.0882 - acc: 0.0000e+00\n",
            "Epoch 99/100\n",
            "50/50 [==============================] - 0s 2ms/step - loss: 0.0880 - acc: 0.0000e+00\n",
            "Epoch 100/100\n",
            "50/50 [==============================] - 0s 2ms/step - loss: 0.0880 - acc: 0.0000e+00\n"
          ]
        }
      ]
    },
    {
      "cell_type": "code",
      "source": [
        "import matplotlib.pyplot as plt\n",
        "%matplotlib inline\n",
        "\n",
        "plt.plot(history.history['loss'], label='loss')\n",
        "plt.ylabel('loss')\n",
        "plt.xlabel('epoch')\n",
        "plt.legend(loc='best')\n",
        "plt.show()\n"
      ],
      "metadata": {
        "colab": {
          "base_uri": "https://localhost:8080/",
          "height": 279
        },
        "id": "0ZjrkOjzZKeG",
        "outputId": "d7f0ba51-6236-4d4f-9204-531c1a09465b"
      },
      "execution_count": 17,
      "outputs": [
        {
          "output_type": "display_data",
          "data": {
            "text/plain": [
              "<Figure size 432x288 with 1 Axes>"
            ],
            "image/png": "[encoded data removed]"
          },
          "metadata": {
            "needs_background": "light"
          }
        }
      ]
    },
    {
      "cell_type": "code",
      "source": [
        "test_loss, test_acc = model.evaluate(test_x, test_y)\n",
        "print('loss: {:.4f}\\nacc: {:.4f}'.format(test_loss, test_acc))\n",
        "# loss: 0.1183\n",
        "# acc: 0.0000\n"
      ],
      "metadata": {
        "colab": {
          "base_uri": "https://localhost:8080/"
        },
        "id": "zuR3P44xZO3u",
        "outputId": "b0d477a9-e2c4-492e-edfd-b191dbb2283e"
      },
      "execution_count": 18,
      "outputs": [
        {
          "output_type": "stream",
          "name": "stdout",
          "text": [
            "7/7 [==============================] - 0s 2ms/step - loss: 0.1146 - acc: 0.0000e+00\n",
            "loss: 0.1146\n",
            "acc: 0.0000\n"
          ]
        }
      ]
    },
    {
      "cell_type": "code",
      "source": [
        "test_predictions = model.predict(test_x)\n",
        "\n",
        "for i in range(5):\n",
        "    print(test_y[i], test_predictions[i])\n",
        "# 0.38551802173851374 [0.20283031]\n",
        "# -0.021098359361594488 [0.06128622]\n",
        "# -0.036755569826498524 [-0.08885847]\n",
        "# -0.08457433557120209 [0.23765944]\n",
        "# 0.30249685570373663 [0.01381123]\n",
        "\n",
        "plt.plot(test_y)\n",
        "plt.plot(test_predictions)\n",
        "plt.show()\n"
      ],
      "metadata": {
        "colab": {
          "base_uri": "https://localhost:8080/",
          "height": 356
        },
        "id": "WwkRaAEoZUAX",
        "outputId": "8ff1c49f-287f-4e66-8829-b5697449b8c1"
      },
      "execution_count": 19,
      "outputs": [
        {
          "output_type": "stream",
          "name": "stdout",
          "text": [
            "-0.32894442882959646 [0.26731944]\n",
            "0.6163419125304936 [0.05846033]\n",
            "0.20214366855888655 [0.2708022]\n",
            "0.06347396744323452 [0.17468113]\n",
            "0.5470611854716014 [0.15637818]\n"
          ]
        },
        {
          "output_type": "display_data",
          "data": {
            "text/plain": [
              "<Figure size 432x288 with 1 Axes>"
            ],
            "image/png": "[encoded data removed]"
          },
          "metadata": {
            "needs_background": "light"
          }
        }
      ]
    }
  ]
}