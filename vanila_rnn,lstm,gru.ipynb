{
  "nbformat": 4,
  "nbformat_minor": 0,
  "metadata": {
    "colab": {
      "provenance": [],
      "collapsed_sections": []
    },
    "kernelspec": {
      "name": "python3",
      "display_name": "Python 3"
    },
    "language_info": {
      "name": "python"
    }
  },
  "cells": [
    {
      "cell_type": "markdown",
      "source": [
        "출처 - https://soccerda.tistory.com/195 [soccerda의 IT이야기:티스토리]"
      ],
      "metadata": {
        "id": "HYJQy4Gk8UHc"
      }
    },
    {
      "cell_type": "markdown",
      "source": [
        "### SimpleRNN "
      ],
      "metadata": {
        "id": "Enq-FDTjdj74"
      }
    },
    {
      "cell_type": "code",
      "execution_count": 1,
      "metadata": {
        "id": "SrmIayiD8RtL",
        "colab": {
          "base_uri": "https://localhost:8080/"
        },
        "outputId": "d676beb7-0b8e-4443-cea4-080000909ebd"
      },
      "outputs": [
        {
          "output_type": "stream",
          "name": "stdout",
          "text": [
            "x_train.shape :  (3, 5, 1)\n",
            "y_train.shape :  (3,)\n"
          ]
        }
      ],
      "source": [
        "#### SimpleRNN \n",
        "#1. 데이터\n",
        "import numpy as np\n",
        "x_train = np.array([[1,2,3,4,5],[2,3,4,5,6],[3,4,5,6,7]])\n",
        "y_train = np.array([6,7,8])\n",
        "\n",
        "x_train = x_train.reshape(x_train.shape[0], x_train.shape[1], 1)\n",
        "\n",
        "print(\"x_train.shape : \", x_train.shape) #(3,5,1)\n",
        "print(\"y_train.shape : \", y_train.shape) #(3,)"
      ]
    },
    {
      "cell_type": "code",
      "source": [
        "#2. 모델구성\n",
        "from keras.models import Sequential\n",
        "from keras.layers import Dense, SimpleRNN\n",
        "\n",
        "model = Sequential()\n",
        "model.add(SimpleRNN(7, input_shape = (5, 1), activation = 'relu'))\n",
        "model.add(Dense(4))\n",
        "model.add(Dense(1))\n",
        "\n",
        "model.summary()"
      ],
      "metadata": {
        "id": "CXMe96Q6c7Fm",
        "colab": {
          "base_uri": "https://localhost:8080/"
        },
        "outputId": "a88b33b4-493f-4218-857d-4e4d9f99afdb"
      },
      "execution_count": 2,
      "outputs": [
        {
          "output_type": "stream",
          "name": "stdout",
          "text": [
            "Model: \"sequential\"\n",
            "_________________________________________________________________\n",
            " Layer (type)                Output Shape              Param #   \n",
            "=================================================================\n",
            " simple_rnn (SimpleRNN)      (None, 7)                 63        \n",
            "                                                                 \n",
            " dense (Dense)               (None, 4)                 32        \n",
            "                                                                 \n",
            " dense_1 (Dense)             (None, 1)                 5         \n",
            "                                                                 \n",
            "=================================================================\n",
            "Total params: 100\n",
            "Trainable params: 100\n",
            "Non-trainable params: 0\n",
            "_________________________________________________________________\n"
          ]
        }
      ]
    },
    {
      "cell_type": "code",
      "source": [
        "#3. 훈련\n",
        "model.compile(loss='mse', optimizer='adam', metrics=['mse'])\n",
        "model.fit(x_train, y_train, epochs=100, batch_size=1)"
      ],
      "metadata": {
        "id": "M7TgCNjIc68Q",
        "colab": {
          "base_uri": "https://localhost:8080/"
        },
        "outputId": "8443a28a-bd94-4812-e6b9-e59cd6213711"
      },
      "execution_count": 3,
      "outputs": [
        {
          "output_type": "stream",
          "name": "stdout",
          "text": [
            "Epoch 1/100\n",
            "3/3 [==============================] - 2s 8ms/step - loss: 45.8126 - mse: 45.8126\n",
            "Epoch 2/100\n",
            "3/3 [==============================] - 0s 8ms/step - loss: 45.3779 - mse: 45.3779\n",
            "Epoch 3/100\n",
            "3/3 [==============================] - 0s 9ms/step - loss: 44.8456 - mse: 44.8456\n",
            "Epoch 4/100\n",
            "3/3 [==============================] - 0s 6ms/step - loss: 44.4211 - mse: 44.4211\n",
            "Epoch 5/100\n",
            "3/3 [==============================] - 0s 5ms/step - loss: 43.9203 - mse: 43.9203\n",
            "Epoch 6/100\n",
            "3/3 [==============================] - 0s 5ms/step - loss: 43.3525 - mse: 43.3525\n",
            "Epoch 7/100\n",
            "3/3 [==============================] - 0s 4ms/step - loss: 42.8983 - mse: 42.8983\n",
            "Epoch 8/100\n",
            "3/3 [==============================] - 0s 4ms/step - loss: 42.3435 - mse: 42.3435\n",
            "Epoch 9/100\n",
            "3/3 [==============================] - 0s 4ms/step - loss: 41.8733 - mse: 41.8733\n",
            "Epoch 10/100\n",
            "3/3 [==============================] - 0s 4ms/step - loss: 41.2662 - mse: 41.2662\n",
            "Epoch 11/100\n",
            "3/3 [==============================] - 0s 4ms/step - loss: 40.7303 - mse: 40.7303\n",
            "Epoch 12/100\n",
            "3/3 [==============================] - 0s 4ms/step - loss: 40.2050 - mse: 40.2050\n",
            "Epoch 13/100\n",
            "3/3 [==============================] - 0s 4ms/step - loss: 39.6315 - mse: 39.6315\n",
            "Epoch 14/100\n",
            "3/3 [==============================] - 0s 5ms/step - loss: 39.0719 - mse: 39.0719\n",
            "Epoch 15/100\n",
            "3/3 [==============================] - 0s 6ms/step - loss: 38.5204 - mse: 38.5204\n",
            "Epoch 16/100\n",
            "3/3 [==============================] - 0s 4ms/step - loss: 37.9385 - mse: 37.9385\n",
            "Epoch 17/100\n",
            "3/3 [==============================] - 0s 4ms/step - loss: 37.3451 - mse: 37.3451\n",
            "Epoch 18/100\n",
            "3/3 [==============================] - 0s 5ms/step - loss: 36.7940 - mse: 36.7940\n",
            "Epoch 19/100\n",
            "3/3 [==============================] - 0s 4ms/step - loss: 36.1097 - mse: 36.1097\n",
            "Epoch 20/100\n",
            "3/3 [==============================] - 0s 4ms/step - loss: 35.4780 - mse: 35.4780\n",
            "Epoch 21/100\n",
            "3/3 [==============================] - 0s 4ms/step - loss: 34.8821 - mse: 34.8821\n",
            "Epoch 22/100\n",
            "3/3 [==============================] - 0s 5ms/step - loss: 34.2401 - mse: 34.2401\n",
            "Epoch 23/100\n",
            "3/3 [==============================] - 0s 5ms/step - loss: 33.4805 - mse: 33.4805\n",
            "Epoch 24/100\n",
            "3/3 [==============================] - 0s 5ms/step - loss: 32.8729 - mse: 32.8729\n",
            "Epoch 25/100\n",
            "3/3 [==============================] - 0s 6ms/step - loss: 32.1344 - mse: 32.1344\n",
            "Epoch 26/100\n",
            "3/3 [==============================] - 0s 5ms/step - loss: 31.4259 - mse: 31.4259\n",
            "Epoch 27/100\n",
            "3/3 [==============================] - 0s 4ms/step - loss: 30.7111 - mse: 30.7111\n",
            "Epoch 28/100\n",
            "3/3 [==============================] - 0s 4ms/step - loss: 29.9880 - mse: 29.9880\n",
            "Epoch 29/100\n",
            "3/3 [==============================] - 0s 4ms/step - loss: 29.2391 - mse: 29.2391\n",
            "Epoch 30/100\n",
            "3/3 [==============================] - 0s 5ms/step - loss: 28.5592 - mse: 28.5592\n",
            "Epoch 31/100\n",
            "3/3 [==============================] - 0s 5ms/step - loss: 27.7528 - mse: 27.7528\n",
            "Epoch 32/100\n",
            "3/3 [==============================] - 0s 4ms/step - loss: 26.9228 - mse: 26.9228\n",
            "Epoch 33/100\n",
            "3/3 [==============================] - 0s 4ms/step - loss: 26.1842 - mse: 26.1842\n",
            "Epoch 34/100\n",
            "3/3 [==============================] - 0s 4ms/step - loss: 25.3328 - mse: 25.3328\n",
            "Epoch 35/100\n",
            "3/3 [==============================] - 0s 4ms/step - loss: 24.5770 - mse: 24.5770\n",
            "Epoch 36/100\n",
            "3/3 [==============================] - 0s 4ms/step - loss: 23.6977 - mse: 23.6977\n",
            "Epoch 37/100\n",
            "3/3 [==============================] - 0s 5ms/step - loss: 22.8844 - mse: 22.8844\n",
            "Epoch 38/100\n",
            "3/3 [==============================] - 0s 5ms/step - loss: 22.0476 - mse: 22.0476\n",
            "Epoch 39/100\n",
            "3/3 [==============================] - 0s 4ms/step - loss: 21.1891 - mse: 21.1891\n",
            "Epoch 40/100\n",
            "3/3 [==============================] - 0s 4ms/step - loss: 20.3512 - mse: 20.3512\n",
            "Epoch 41/100\n",
            "3/3 [==============================] - 0s 4ms/step - loss: 19.5858 - mse: 19.5858\n",
            "Epoch 42/100\n",
            "3/3 [==============================] - 0s 5ms/step - loss: 18.7185 - mse: 18.7185\n",
            "Epoch 43/100\n",
            "3/3 [==============================] - 0s 5ms/step - loss: 17.8576 - mse: 17.8576\n",
            "Epoch 44/100\n",
            "3/3 [==============================] - 0s 7ms/step - loss: 16.9444 - mse: 16.9444\n",
            "Epoch 45/100\n",
            "3/3 [==============================] - 0s 5ms/step - loss: 16.1083 - mse: 16.1083\n",
            "Epoch 46/100\n",
            "3/3 [==============================] - 0s 6ms/step - loss: 15.2670 - mse: 15.2670\n",
            "Epoch 47/100\n",
            "3/3 [==============================] - 0s 6ms/step - loss: 14.4302 - mse: 14.4302\n",
            "Epoch 48/100\n",
            "3/3 [==============================] - 0s 5ms/step - loss: 13.5952 - mse: 13.5952\n",
            "Epoch 49/100\n",
            "3/3 [==============================] - 0s 5ms/step - loss: 12.8260 - mse: 12.8260\n",
            "Epoch 50/100\n",
            "3/3 [==============================] - 0s 5ms/step - loss: 12.0039 - mse: 12.0039\n",
            "Epoch 51/100\n",
            "3/3 [==============================] - 0s 5ms/step - loss: 11.1349 - mse: 11.1349\n",
            "Epoch 52/100\n",
            "3/3 [==============================] - 0s 5ms/step - loss: 10.3897 - mse: 10.3897\n",
            "Epoch 53/100\n",
            "3/3 [==============================] - 0s 4ms/step - loss: 9.6702 - mse: 9.6702\n",
            "Epoch 54/100\n",
            "3/3 [==============================] - 0s 4ms/step - loss: 8.8829 - mse: 8.8829\n",
            "Epoch 55/100\n",
            "3/3 [==============================] - 0s 5ms/step - loss: 8.1660 - mse: 8.1660\n",
            "Epoch 56/100\n",
            "3/3 [==============================] - 0s 5ms/step - loss: 7.5134 - mse: 7.5134\n",
            "Epoch 57/100\n",
            "3/3 [==============================] - 0s 4ms/step - loss: 6.8401 - mse: 6.8401\n",
            "Epoch 58/100\n",
            "3/3 [==============================] - 0s 4ms/step - loss: 6.1689 - mse: 6.1689\n",
            "Epoch 59/100\n",
            "3/3 [==============================] - 0s 5ms/step - loss: 5.5541 - mse: 5.5541\n",
            "Epoch 60/100\n",
            "3/3 [==============================] - 0s 5ms/step - loss: 5.0022 - mse: 5.0022\n",
            "Epoch 61/100\n",
            "3/3 [==============================] - 0s 5ms/step - loss: 4.4643 - mse: 4.4643\n",
            "Epoch 62/100\n",
            "3/3 [==============================] - 0s 5ms/step - loss: 3.9527 - mse: 3.9527\n",
            "Epoch 63/100\n",
            "3/3 [==============================] - 0s 4ms/step - loss: 3.4977 - mse: 3.4977\n",
            "Epoch 64/100\n",
            "3/3 [==============================] - 0s 5ms/step - loss: 3.0663 - mse: 3.0663\n",
            "Epoch 65/100\n",
            "3/3 [==============================] - 0s 4ms/step - loss: 2.6831 - mse: 2.6831\n",
            "Epoch 66/100\n",
            "3/3 [==============================] - 0s 4ms/step - loss: 2.3080 - mse: 2.3080\n",
            "Epoch 67/100\n",
            "3/3 [==============================] - 0s 5ms/step - loss: 1.9917 - mse: 1.9917\n",
            "Epoch 68/100\n",
            "3/3 [==============================] - 0s 5ms/step - loss: 1.6957 - mse: 1.6957\n",
            "Epoch 69/100\n",
            "3/3 [==============================] - 0s 5ms/step - loss: 1.4380 - mse: 1.4380\n",
            "Epoch 70/100\n",
            "3/3 [==============================] - 0s 5ms/step - loss: 1.2140 - mse: 1.2140\n",
            "Epoch 71/100\n",
            "3/3 [==============================] - 0s 6ms/step - loss: 1.0195 - mse: 1.0195\n",
            "Epoch 72/100\n",
            "3/3 [==============================] - 0s 4ms/step - loss: 0.8548 - mse: 0.8548\n",
            "Epoch 73/100\n",
            "3/3 [==============================] - 0s 6ms/step - loss: 0.7089 - mse: 0.7089\n",
            "Epoch 74/100\n",
            "3/3 [==============================] - 0s 5ms/step - loss: 0.5872 - mse: 0.5872\n",
            "Epoch 75/100\n",
            "3/3 [==============================] - 0s 7ms/step - loss: 0.4952 - mse: 0.4952\n",
            "Epoch 76/100\n",
            "3/3 [==============================] - 0s 6ms/step - loss: 0.4112 - mse: 0.4112\n",
            "Epoch 77/100\n",
            "3/3 [==============================] - 0s 8ms/step - loss: 0.3479 - mse: 0.3479\n",
            "Epoch 78/100\n",
            "3/3 [==============================] - 0s 5ms/step - loss: 0.2954 - mse: 0.2954\n",
            "Epoch 79/100\n",
            "3/3 [==============================] - 0s 4ms/step - loss: 0.2481 - mse: 0.2481\n",
            "Epoch 80/100\n",
            "3/3 [==============================] - 0s 5ms/step - loss: 0.2159 - mse: 0.2159    \n",
            "Epoch 81/100\n",
            "3/3 [==============================] - 0s 5ms/step - loss: 0.1995 - mse: 0.1995\n",
            "Epoch 82/100\n",
            "3/3 [==============================] - 0s 5ms/step - loss: 0.1724 - mse: 0.1724\n",
            "Epoch 83/100\n",
            "3/3 [==============================] - 0s 5ms/step - loss: 0.1678 - mse: 0.1678\n",
            "Epoch 84/100\n",
            "3/3 [==============================] - 0s 4ms/step - loss: 0.1530 - mse: 0.1530\n",
            "Epoch 85/100\n",
            "3/3 [==============================] - 0s 6ms/step - loss: 0.1457 - mse: 0.1457\n",
            "Epoch 86/100\n",
            "3/3 [==============================] - 0s 4ms/step - loss: 0.1422 - mse: 0.1422\n",
            "Epoch 87/100\n",
            "3/3 [==============================] - 0s 4ms/step - loss: 0.1438 - mse: 0.1438\n",
            "Epoch 88/100\n",
            "3/3 [==============================] - 0s 5ms/step - loss: 0.1369 - mse: 0.1369\n",
            "Epoch 89/100\n",
            "3/3 [==============================] - 0s 5ms/step - loss: 0.1375 - mse: 0.1375\n",
            "Epoch 90/100\n",
            "3/3 [==============================] - 0s 4ms/step - loss: 0.1351 - mse: 0.1351\n",
            "Epoch 91/100\n",
            "3/3 [==============================] - 0s 5ms/step - loss: 0.1359 - mse: 0.1359\n",
            "Epoch 92/100\n",
            "3/3 [==============================] - 0s 6ms/step - loss: 0.1345 - mse: 0.1345\n",
            "Epoch 93/100\n",
            "3/3 [==============================] - 0s 5ms/step - loss: 0.1343 - mse: 0.1343\n",
            "Epoch 94/100\n",
            "3/3 [==============================] - 0s 6ms/step - loss: 0.1353 - mse: 0.1353\n",
            "Epoch 95/100\n",
            "3/3 [==============================] - 0s 7ms/step - loss: 0.1348 - mse: 0.1348\n",
            "Epoch 96/100\n",
            "3/3 [==============================] - 0s 4ms/step - loss: 0.1344 - mse: 0.1344\n",
            "Epoch 97/100\n",
            "3/3 [==============================] - 0s 5ms/step - loss: 0.1343 - mse: 0.1343\n",
            "Epoch 98/100\n",
            "3/3 [==============================] - 0s 4ms/step - loss: 0.1346 - mse: 0.1346\n",
            "Epoch 99/100\n",
            "3/3 [==============================] - 0s 4ms/step - loss: 0.1344 - mse: 0.1344\n",
            "Epoch 100/100\n",
            "3/3 [==============================] - 0s 5ms/step - loss: 0.1344 - mse: 0.1344\n"
          ]
        },
        {
          "output_type": "execute_result",
          "data": {
            "text/plain": [
              "<keras.callbacks.History at 0x7f3a274a2090>"
            ]
          },
          "metadata": {},
          "execution_count": 3
        }
      ]
    },
    {
      "cell_type": "code",
      "source": [
        "#4. 예측\n",
        "x_predict = np.array([[4,5,6,7,8]])\n",
        "print(x_predict.shape) #(1,5)\n",
        "x_predict = x_predict.reshape(x_predict.shape[0],x_predict.shape[1], 1)\n",
        "print(\"x_predict.shape : \", x_predict.shape) # (1,5,1)\n",
        "\n",
        "y_predict = model.predict(x_predict)\n",
        "print(\"예측값 :\", y_predict)"
      ],
      "metadata": {
        "id": "tjEppV9Xc-42",
        "colab": {
          "base_uri": "https://localhost:8080/"
        },
        "outputId": "2513b527-e8c1-44c9-de90-383c5436219c"
      },
      "execution_count": 4,
      "outputs": [
        {
          "output_type": "stream",
          "name": "stdout",
          "text": [
            "(1, 5)\n",
            "x_predict.shape :  (1, 5, 1)\n",
            "예측값 : [[9.825346]]\n"
          ]
        }
      ]
    },
    {
      "cell_type": "markdown",
      "source": [
        "### LSTM"
      ],
      "metadata": {
        "id": "rw4YWb7adnyO"
      }
    },
    {
      "cell_type": "code",
      "source": [
        "######## LSTM\n",
        "#1. 데이터\n",
        "import numpy as np\n",
        "x_train = np.array([[1,2,3,4,5],[2,3,4,5,6],[3,4,5,6,7]])\n",
        "y_train = np.array([6,7,8])\n",
        "\n",
        "x_train = x_train.reshape(x_train.shape[0], x_train.shape[1], 1)\n",
        "\n",
        "print(\"x_train.shape : \", x_train.shape) #(3,5,1)\n",
        "print(\"y_train.shape : \", y_train.shape) #(3,)"
      ],
      "metadata": {
        "colab": {
          "base_uri": "https://localhost:8080/"
        },
        "id": "pIVf-Zmb_8B6",
        "outputId": "d6cae919-0443-4d2e-e1d9-8497a3eab545"
      },
      "execution_count": 5,
      "outputs": [
        {
          "output_type": "stream",
          "name": "stdout",
          "text": [
            "x_train.shape :  (3, 5, 1)\n",
            "y_train.shape :  (3,)\n"
          ]
        }
      ]
    },
    {
      "cell_type": "code",
      "source": [
        "#2. 모델구성\n",
        "from keras.models import Sequential\n",
        "from keras.layers import Dense, LSTM\n",
        "model = Sequential()\n",
        "\n",
        "model.add(LSTM(7, input_shape = (5, 1), activation = 'relu'))\n",
        "model.add(Dense(4))\n",
        "model.add(Dense(1))\n",
        "\n",
        "model.summary()"
      ],
      "metadata": {
        "colab": {
          "base_uri": "https://localhost:8080/"
        },
        "id": "WZdrIaP5dqjD",
        "outputId": "9af2c729-2216-4b08-f6e9-3feca25c0328"
      },
      "execution_count": 6,
      "outputs": [
        {
          "output_type": "stream",
          "name": "stdout",
          "text": [
            "Model: \"sequential_1\"\n",
            "_________________________________________________________________\n",
            " Layer (type)                Output Shape              Param #   \n",
            "=================================================================\n",
            " lstm (LSTM)                 (None, 7)                 252       \n",
            "                                                                 \n",
            " dense_2 (Dense)             (None, 4)                 32        \n",
            "                                                                 \n",
            " dense_3 (Dense)             (None, 1)                 5         \n",
            "                                                                 \n",
            "=================================================================\n",
            "Total params: 289\n",
            "Trainable params: 289\n",
            "Non-trainable params: 0\n",
            "_________________________________________________________________\n"
          ]
        }
      ]
    },
    {
      "cell_type": "code",
      "source": [
        "#3. 훈련\n",
        "model.compile(loss='mse', optimizer='adam', metrics=['mse'])\n",
        "model.fit(x_train, y_train, epochs=100, batch_size=1)"
      ],
      "metadata": {
        "colab": {
          "base_uri": "https://localhost:8080/"
        },
        "id": "HuJAFlF9dqbc",
        "outputId": "ddbf2dad-8f4b-42e2-ea8d-97b0993f9a37"
      },
      "execution_count": 7,
      "outputs": [
        {
          "output_type": "stream",
          "name": "stdout",
          "text": [
            "Epoch 1/100\n",
            "3/3 [==============================] - 1s 5ms/step - loss: 48.3978 - mse: 48.3978\n",
            "Epoch 2/100\n",
            "3/3 [==============================] - 0s 6ms/step - loss: 47.9507 - mse: 47.9507\n",
            "Epoch 3/100\n",
            "3/3 [==============================] - 0s 7ms/step - loss: 47.5171 - mse: 47.5171\n",
            "Epoch 4/100\n",
            "3/3 [==============================] - 0s 6ms/step - loss: 47.0719 - mse: 47.0719\n",
            "Epoch 5/100\n",
            "3/3 [==============================] - 0s 5ms/step - loss: 46.6244 - mse: 46.6244\n",
            "Epoch 6/100\n",
            "3/3 [==============================] - 0s 5ms/step - loss: 46.1571 - mse: 46.1571\n",
            "Epoch 7/100\n",
            "3/3 [==============================] - 0s 4ms/step - loss: 45.6948 - mse: 45.6948\n",
            "Epoch 8/100\n",
            "3/3 [==============================] - 0s 5ms/step - loss: 45.1533 - mse: 45.1533\n",
            "Epoch 9/100\n",
            "3/3 [==============================] - 0s 5ms/step - loss: 44.6256 - mse: 44.6256\n",
            "Epoch 10/100\n",
            "3/3 [==============================] - 0s 9ms/step - loss: 44.0775 - mse: 44.0775\n",
            "Epoch 11/100\n",
            "3/3 [==============================] - 0s 6ms/step - loss: 43.4475 - mse: 43.4475\n",
            "Epoch 12/100\n",
            "3/3 [==============================] - 0s 6ms/step - loss: 42.8090 - mse: 42.8090\n",
            "Epoch 13/100\n",
            "3/3 [==============================] - 0s 6ms/step - loss: 42.1370 - mse: 42.1370\n",
            "Epoch 14/100\n",
            "3/3 [==============================] - 0s 5ms/step - loss: 41.4385 - mse: 41.4385\n",
            "Epoch 15/100\n",
            "3/3 [==============================] - 0s 6ms/step - loss: 40.6134 - mse: 40.6134\n",
            "Epoch 16/100\n",
            "3/3 [==============================] - 0s 5ms/step - loss: 39.7545 - mse: 39.7545\n",
            "Epoch 17/100\n",
            "3/3 [==============================] - 0s 7ms/step - loss: 38.9012 - mse: 38.9012\n",
            "Epoch 18/100\n",
            "3/3 [==============================] - 0s 5ms/step - loss: 37.8756 - mse: 37.8756\n",
            "Epoch 19/100\n",
            "3/3 [==============================] - 0s 6ms/step - loss: 36.8881 - mse: 36.8881\n",
            "Epoch 20/100\n",
            "3/3 [==============================] - 0s 5ms/step - loss: 35.6980 - mse: 35.6980\n",
            "Epoch 21/100\n",
            "3/3 [==============================] - 0s 5ms/step - loss: 34.4521 - mse: 34.4521\n",
            "Epoch 22/100\n",
            "3/3 [==============================] - 0s 6ms/step - loss: 33.0305 - mse: 33.0305\n",
            "Epoch 23/100\n",
            "3/3 [==============================] - 0s 6ms/step - loss: 31.6539 - mse: 31.6539\n",
            "Epoch 24/100\n",
            "3/3 [==============================] - 0s 5ms/step - loss: 30.0954 - mse: 30.0954\n",
            "Epoch 25/100\n",
            "3/3 [==============================] - 0s 5ms/step - loss: 28.3005 - mse: 28.3005\n",
            "Epoch 26/100\n",
            "3/3 [==============================] - 0s 5ms/step - loss: 26.2527 - mse: 26.2527\n",
            "Epoch 27/100\n",
            "3/3 [==============================] - 0s 6ms/step - loss: 24.5121 - mse: 24.5121\n",
            "Epoch 28/100\n",
            "3/3 [==============================] - 0s 5ms/step - loss: 22.0704 - mse: 22.0704\n",
            "Epoch 29/100\n",
            "3/3 [==============================] - 0s 5ms/step - loss: 19.7347 - mse: 19.7347\n",
            "Epoch 30/100\n",
            "3/3 [==============================] - 0s 5ms/step - loss: 17.2472 - mse: 17.2472\n",
            "Epoch 31/100\n",
            "3/3 [==============================] - 0s 6ms/step - loss: 14.5507 - mse: 14.5507\n",
            "Epoch 32/100\n",
            "3/3 [==============================] - 0s 5ms/step - loss: 12.2131 - mse: 12.2131\n",
            "Epoch 33/100\n",
            "3/3 [==============================] - 0s 6ms/step - loss: 9.2293 - mse: 9.2293\n",
            "Epoch 34/100\n",
            "3/3 [==============================] - 0s 6ms/step - loss: 6.9838 - mse: 6.9838\n",
            "Epoch 35/100\n",
            "3/3 [==============================] - 0s 5ms/step - loss: 4.3034 - mse: 4.3034\n",
            "Epoch 36/100\n",
            "3/3 [==============================] - 0s 5ms/step - loss: 2.5436 - mse: 2.5436\n",
            "Epoch 37/100\n",
            "3/3 [==============================] - 0s 5ms/step - loss: 1.0230 - mse: 1.0230\n",
            "Epoch 38/100\n",
            "3/3 [==============================] - 0s 5ms/step - loss: 0.3728 - mse: 0.3728\n",
            "Epoch 39/100\n",
            "3/3 [==============================] - 0s 6ms/step - loss: 0.1821 - mse: 0.1821    \n",
            "Epoch 40/100\n",
            "3/3 [==============================] - 0s 7ms/step - loss: 0.3588 - mse: 0.3588\n",
            "Epoch 41/100\n",
            "3/3 [==============================] - 0s 8ms/step - loss: 0.6163 - mse: 0.6163\n",
            "Epoch 42/100\n",
            "3/3 [==============================] - 0s 5ms/step - loss: 0.7116 - mse: 0.7116\n",
            "Epoch 43/100\n",
            "3/3 [==============================] - 0s 5ms/step - loss: 0.5750 - mse: 0.5750\n",
            "Epoch 44/100\n",
            "3/3 [==============================] - 0s 6ms/step - loss: 0.3809 - mse: 0.3809\n",
            "Epoch 45/100\n",
            "3/3 [==============================] - 0s 6ms/step - loss: 0.2351 - mse: 0.2351\n",
            "Epoch 46/100\n",
            "3/3 [==============================] - 0s 6ms/step - loss: 0.2068 - mse: 0.2068\n",
            "Epoch 47/100\n",
            "3/3 [==============================] - 0s 6ms/step - loss: 0.1578 - mse: 0.1578\n",
            "Epoch 48/100\n",
            "3/3 [==============================] - 0s 6ms/step - loss: 0.1891 - mse: 0.1891\n",
            "Epoch 49/100\n",
            "3/3 [==============================] - 0s 5ms/step - loss: 0.2073 - mse: 0.2073\n",
            "Epoch 50/100\n",
            "3/3 [==============================] - 0s 5ms/step - loss: 0.2101 - mse: 0.2101\n",
            "Epoch 51/100\n",
            "3/3 [==============================] - 0s 6ms/step - loss: 0.1979 - mse: 0.1979    \n",
            "Epoch 52/100\n",
            "3/3 [==============================] - 0s 7ms/step - loss: 0.1888 - mse: 0.1888\n",
            "Epoch 53/100\n",
            "3/3 [==============================] - 0s 6ms/step - loss: 0.1733 - mse: 0.1733\n",
            "Epoch 54/100\n",
            "3/3 [==============================] - 0s 5ms/step - loss: 0.1574 - mse: 0.1574\n",
            "Epoch 55/100\n",
            "3/3 [==============================] - 0s 6ms/step - loss: 0.1658 - mse: 0.1658\n",
            "Epoch 56/100\n",
            "3/3 [==============================] - 0s 5ms/step - loss: 0.1586 - mse: 0.1586\n",
            "Epoch 57/100\n",
            "3/3 [==============================] - 0s 6ms/step - loss: 0.1590 - mse: 0.1590\n",
            "Epoch 58/100\n",
            "3/3 [==============================] - 0s 7ms/step - loss: 0.1562 - mse: 0.1562\n",
            "Epoch 59/100\n",
            "3/3 [==============================] - 0s 8ms/step - loss: 0.1550 - mse: 0.1550\n",
            "Epoch 60/100\n",
            "3/3 [==============================] - 0s 8ms/step - loss: 0.1488 - mse: 0.1488\n",
            "Epoch 61/100\n",
            "3/3 [==============================] - 0s 6ms/step - loss: 0.1482 - mse: 0.1482\n",
            "Epoch 62/100\n",
            "3/3 [==============================] - 0s 6ms/step - loss: 0.1440 - mse: 0.1440    \n",
            "Epoch 63/100\n",
            "3/3 [==============================] - 0s 5ms/step - loss: 0.1420 - mse: 0.1420    \n",
            "Epoch 64/100\n",
            "3/3 [==============================] - 0s 5ms/step - loss: 0.1408 - mse: 0.1408\n",
            "Epoch 65/100\n",
            "3/3 [==============================] - 0s 6ms/step - loss: 0.1427 - mse: 0.1427\n",
            "Epoch 66/100\n",
            "3/3 [==============================] - 0s 6ms/step - loss: 0.1398 - mse: 0.1398\n",
            "Epoch 67/100\n",
            "3/3 [==============================] - 0s 5ms/step - loss: 0.1360 - mse: 0.1360\n",
            "Epoch 68/100\n",
            "3/3 [==============================] - 0s 6ms/step - loss: 0.1338 - mse: 0.1338\n",
            "Epoch 69/100\n",
            "3/3 [==============================] - 0s 6ms/step - loss: 0.1320 - mse: 0.1320\n",
            "Epoch 70/100\n",
            "3/3 [==============================] - 0s 6ms/step - loss: 0.1287 - mse: 0.1287\n",
            "Epoch 71/100\n",
            "3/3 [==============================] - 0s 6ms/step - loss: 0.1315 - mse: 0.1315\n",
            "Epoch 72/100\n",
            "3/3 [==============================] - 0s 7ms/step - loss: 0.1265 - mse: 0.1265\n",
            "Epoch 73/100\n",
            "3/3 [==============================] - 0s 5ms/step - loss: 0.1250 - mse: 0.1250    \n",
            "Epoch 74/100\n",
            "3/3 [==============================] - 0s 6ms/step - loss: 0.1242 - mse: 0.1242\n",
            "Epoch 75/100\n",
            "3/3 [==============================] - 0s 5ms/step - loss: 0.1214 - mse: 0.1214    \n",
            "Epoch 76/100\n",
            "3/3 [==============================] - 0s 5ms/step - loss: 0.1194 - mse: 0.1194\n",
            "Epoch 77/100\n",
            "3/3 [==============================] - 0s 5ms/step - loss: 0.1194 - mse: 0.1194\n",
            "Epoch 78/100\n",
            "3/3 [==============================] - 0s 6ms/step - loss: 0.1162 - mse: 0.1162\n",
            "Epoch 79/100\n",
            "3/3 [==============================] - 0s 5ms/step - loss: 0.1154 - mse: 0.1154\n",
            "Epoch 80/100\n",
            "3/3 [==============================] - 0s 7ms/step - loss: 0.1137 - mse: 0.1137\n",
            "Epoch 81/100\n",
            "3/3 [==============================] - 0s 5ms/step - loss: 0.1122 - mse: 0.1122\n",
            "Epoch 82/100\n",
            "3/3 [==============================] - 0s 5ms/step - loss: 0.1100 - mse: 0.1100\n",
            "Epoch 83/100\n",
            "3/3 [==============================] - 0s 6ms/step - loss: 0.1088 - mse: 0.1088\n",
            "Epoch 84/100\n",
            "3/3 [==============================] - 0s 7ms/step - loss: 0.1089 - mse: 0.1089\n",
            "Epoch 85/100\n",
            "3/3 [==============================] - 0s 7ms/step - loss: 0.1064 - mse: 0.1064\n",
            "Epoch 86/100\n",
            "3/3 [==============================] - 0s 6ms/step - loss: 0.1046 - mse: 0.1046\n",
            "Epoch 87/100\n",
            "3/3 [==============================] - 0s 5ms/step - loss: 0.1022 - mse: 0.1022\n",
            "Epoch 88/100\n",
            "3/3 [==============================] - 0s 6ms/step - loss: 0.1008 - mse: 0.1008\n",
            "Epoch 89/100\n",
            "3/3 [==============================] - 0s 6ms/step - loss: 0.1017 - mse: 0.1017\n",
            "Epoch 90/100\n",
            "3/3 [==============================] - 0s 6ms/step - loss: 0.0985 - mse: 0.0985\n",
            "Epoch 91/100\n",
            "3/3 [==============================] - 0s 6ms/step - loss: 0.0972 - mse: 0.0972\n",
            "Epoch 92/100\n",
            "3/3 [==============================] - 0s 5ms/step - loss: 0.0957 - mse: 0.0957\n",
            "Epoch 93/100\n",
            "3/3 [==============================] - 0s 5ms/step - loss: 0.0949 - mse: 0.0949\n",
            "Epoch 94/100\n",
            "3/3 [==============================] - 0s 6ms/step - loss: 0.0926 - mse: 0.0926\n",
            "Epoch 95/100\n",
            "3/3 [==============================] - 0s 5ms/step - loss: 0.0935 - mse: 0.0935\n",
            "Epoch 96/100\n",
            "3/3 [==============================] - 0s 5ms/step - loss: 0.0904 - mse: 0.0904\n",
            "Epoch 97/100\n",
            "3/3 [==============================] - 0s 6ms/step - loss: 0.0894 - mse: 0.0894\n",
            "Epoch 98/100\n",
            "3/3 [==============================] - 0s 6ms/step - loss: 0.0887 - mse: 0.0887\n",
            "Epoch 99/100\n",
            "3/3 [==============================] - 0s 6ms/step - loss: 0.0877 - mse: 0.0877\n",
            "Epoch 100/100\n",
            "3/3 [==============================] - 0s 7ms/step - loss: 0.0861 - mse: 0.0861\n"
          ]
        },
        {
          "output_type": "execute_result",
          "data": {
            "text/plain": [
              "<keras.callbacks.History at 0x7f39b24ff310>"
            ]
          },
          "metadata": {},
          "execution_count": 7
        }
      ]
    },
    {
      "cell_type": "code",
      "source": [
        "#4. 예측\n",
        "x_predict = np.array([[4,5,6,7,8]])\n",
        "print(x_predict.shape) #(1,5)\n",
        "x_predict = x_predict.reshape(x_predict.shape[0],x_predict.shape[1], 1)\n",
        "print(\"x_predict.shape : \", x_predict.shape) # (1,5,1)\n",
        "\n",
        "y_predict = model.predict(x_predict)\n",
        "print(\"예측값 :\", y_predict)"
      ],
      "metadata": {
        "colab": {
          "base_uri": "https://localhost:8080/"
        },
        "id": "4qjya257dqTG",
        "outputId": "2d43abe5-5e95-4289-a274-d43236f2c380"
      },
      "execution_count": 8,
      "outputs": [
        {
          "output_type": "stream",
          "name": "stdout",
          "text": [
            "(1, 5)\n",
            "x_predict.shape :  (1, 5, 1)\n",
            "예측값 : [[8.64193]]\n"
          ]
        }
      ]
    },
    {
      "cell_type": "markdown",
      "source": [
        "### GRU"
      ],
      "metadata": {
        "id": "RI0rKUuidwUR"
      }
    },
    {
      "cell_type": "code",
      "source": [
        "#1. 데이터\n",
        "import numpy as np\n",
        "x_train = np.array([[1,2,3,4,5],[2,3,4,5,6],[3,4,5,6,7]])\n",
        "y_train = np.array([6,7,8])\n",
        "\n",
        "x_train = x_train.reshape(x_train.shape[0], x_train.shape[1], 1)\n",
        "\n",
        "print(\"x_train.shape : \", x_train.shape) #(3,5,1)\n",
        "print(\"y_train.shape : \", y_train.shape) #(3,)"
      ],
      "metadata": {
        "colab": {
          "base_uri": "https://localhost:8080/"
        },
        "id": "KxVaDN8dAWRw",
        "outputId": "292f11ab-7ca5-4ea2-bcd2-ee278510a83e"
      },
      "execution_count": 9,
      "outputs": [
        {
          "output_type": "stream",
          "name": "stdout",
          "text": [
            "x_train.shape :  (3, 5, 1)\n",
            "y_train.shape :  (3,)\n"
          ]
        }
      ]
    },
    {
      "cell_type": "code",
      "source": [
        "#2. 모델구성\n",
        "from keras.models import Sequential\n",
        "from keras.layers import Dense, GRU\n",
        "model = Sequential()\n",
        "\n",
        "model.add(GRU(7, input_shape = (5, 1), activation = 'relu'))\n",
        "model.add(Dense(4))\n",
        "model.add(Dense(1))\n",
        "\n",
        "model.summary()"
      ],
      "metadata": {
        "colab": {
          "base_uri": "https://localhost:8080/"
        },
        "id": "grweuWgTd3JD",
        "outputId": "a4407cfd-f64a-4b4b-d24e-03ec91be09cb"
      },
      "execution_count": 10,
      "outputs": [
        {
          "output_type": "stream",
          "name": "stdout",
          "text": [
            "Model: \"sequential_2\"\n",
            "_________________________________________________________________\n",
            " Layer (type)                Output Shape              Param #   \n",
            "=================================================================\n",
            " gru (GRU)                   (None, 7)                 210       \n",
            "                                                                 \n",
            " dense_4 (Dense)             (None, 4)                 32        \n",
            "                                                                 \n",
            " dense_5 (Dense)             (None, 1)                 5         \n",
            "                                                                 \n",
            "=================================================================\n",
            "Total params: 247\n",
            "Trainable params: 247\n",
            "Non-trainable params: 0\n",
            "_________________________________________________________________\n"
          ]
        }
      ]
    },
    {
      "cell_type": "code",
      "source": [
        "#3. 훈련\n",
        "model.compile(loss='mse', optimizer='adam', metrics=['mse'])\n",
        "model.fit(x_train, y_train, epochs=100, batch_size=1)"
      ],
      "metadata": {
        "colab": {
          "base_uri": "https://localhost:8080/"
        },
        "id": "Dc1JZ38Rd1aC",
        "outputId": "36d4eb7c-8646-43a8-8c3b-b28acd6b84c4"
      },
      "execution_count": 11,
      "outputs": [
        {
          "output_type": "stream",
          "name": "stdout",
          "text": [
            "Epoch 1/100\n",
            "3/3 [==============================] - 1s 5ms/step - loss: 32.6095 - mse: 32.6095\n",
            "Epoch 2/100\n",
            "3/3 [==============================] - 0s 6ms/step - loss: 31.9154 - mse: 31.9154\n",
            "Epoch 3/100\n",
            "3/3 [==============================] - 0s 6ms/step - loss: 31.2573 - mse: 31.2573\n",
            "Epoch 4/100\n",
            "3/3 [==============================] - 0s 6ms/step - loss: 30.6735 - mse: 30.6735\n",
            "Epoch 5/100\n",
            "3/3 [==============================] - 0s 7ms/step - loss: 29.9797 - mse: 29.9797\n",
            "Epoch 6/100\n",
            "3/3 [==============================] - 0s 8ms/step - loss: 29.4204 - mse: 29.4204\n",
            "Epoch 7/100\n",
            "3/3 [==============================] - 0s 7ms/step - loss: 28.7312 - mse: 28.7312\n",
            "Epoch 8/100\n",
            "3/3 [==============================] - 0s 7ms/step - loss: 28.1127 - mse: 28.1127\n",
            "Epoch 9/100\n",
            "3/3 [==============================] - 0s 5ms/step - loss: 27.5247 - mse: 27.5247\n",
            "Epoch 10/100\n",
            "3/3 [==============================] - 0s 5ms/step - loss: 26.9178 - mse: 26.9178\n",
            "Epoch 11/100\n",
            "3/3 [==============================] - 0s 5ms/step - loss: 26.2486 - mse: 26.2486\n",
            "Epoch 12/100\n",
            "3/3 [==============================] - 0s 6ms/step - loss: 25.6858 - mse: 25.6858\n",
            "Epoch 13/100\n",
            "3/3 [==============================] - 0s 5ms/step - loss: 25.0214 - mse: 25.0214\n",
            "Epoch 14/100\n",
            "3/3 [==============================] - 0s 7ms/step - loss: 24.4611 - mse: 24.4611\n",
            "Epoch 15/100\n",
            "3/3 [==============================] - 0s 6ms/step - loss: 23.8452 - mse: 23.8452\n",
            "Epoch 16/100\n",
            "3/3 [==============================] - 0s 5ms/step - loss: 23.2162 - mse: 23.2162\n",
            "Epoch 17/100\n",
            "3/3 [==============================] - 0s 6ms/step - loss: 22.5749 - mse: 22.5749\n",
            "Epoch 18/100\n",
            "3/3 [==============================] - 0s 5ms/step - loss: 22.0049 - mse: 22.0049\n",
            "Epoch 19/100\n",
            "3/3 [==============================] - 0s 5ms/step - loss: 21.3944 - mse: 21.3944\n",
            "Epoch 20/100\n",
            "3/3 [==============================] - 0s 5ms/step - loss: 20.7513 - mse: 20.7513\n",
            "Epoch 21/100\n",
            "3/3 [==============================] - 0s 5ms/step - loss: 20.1962 - mse: 20.1962\n",
            "Epoch 22/100\n",
            "3/3 [==============================] - 0s 5ms/step - loss: 19.5326 - mse: 19.5326\n",
            "Epoch 23/100\n",
            "3/3 [==============================] - 0s 6ms/step - loss: 18.9620 - mse: 18.9620\n",
            "Epoch 24/100\n",
            "3/3 [==============================] - 0s 6ms/step - loss: 18.3040 - mse: 18.3040\n",
            "Epoch 25/100\n",
            "3/3 [==============================] - 0s 8ms/step - loss: 17.7487 - mse: 17.7487\n",
            "Epoch 26/100\n",
            "3/3 [==============================] - 0s 10ms/step - loss: 17.1066 - mse: 17.1066\n",
            "Epoch 27/100\n",
            "3/3 [==============================] - 0s 10ms/step - loss: 16.5307 - mse: 16.5307\n",
            "Epoch 28/100\n",
            "3/3 [==============================] - 0s 11ms/step - loss: 15.9352 - mse: 15.9352\n",
            "Epoch 29/100\n",
            "3/3 [==============================] - 0s 8ms/step - loss: 15.3074 - mse: 15.3074\n",
            "Epoch 30/100\n",
            "3/3 [==============================] - 0s 9ms/step - loss: 14.6728 - mse: 14.6728\n",
            "Epoch 31/100\n",
            "3/3 [==============================] - 0s 8ms/step - loss: 14.1050 - mse: 14.1050\n",
            "Epoch 32/100\n",
            "3/3 [==============================] - 0s 5ms/step - loss: 13.4563 - mse: 13.4563\n",
            "Epoch 33/100\n",
            "3/3 [==============================] - 0s 5ms/step - loss: 12.8830 - mse: 12.8830\n",
            "Epoch 34/100\n",
            "3/3 [==============================] - 0s 5ms/step - loss: 12.3338 - mse: 12.3338\n",
            "Epoch 35/100\n",
            "3/3 [==============================] - 0s 5ms/step - loss: 11.6886 - mse: 11.6886\n",
            "Epoch 36/100\n",
            "3/3 [==============================] - 0s 6ms/step - loss: 11.0875 - mse: 11.0875\n",
            "Epoch 37/100\n",
            "3/3 [==============================] - 0s 5ms/step - loss: 10.5539 - mse: 10.5539\n",
            "Epoch 38/100\n",
            "3/3 [==============================] - 0s 5ms/step - loss: 9.9689 - mse: 9.9689\n",
            "Epoch 39/100\n",
            "3/3 [==============================] - 0s 6ms/step - loss: 9.4053 - mse: 9.4053\n",
            "Epoch 40/100\n",
            "3/3 [==============================] - 0s 5ms/step - loss: 8.7725 - mse: 8.7725\n",
            "Epoch 41/100\n",
            "3/3 [==============================] - 0s 5ms/step - loss: 8.2649 - mse: 8.2649\n",
            "Epoch 42/100\n",
            "3/3 [==============================] - 0s 6ms/step - loss: 7.6777 - mse: 7.6777\n",
            "Epoch 43/100\n",
            "3/3 [==============================] - 0s 6ms/step - loss: 7.1838 - mse: 7.1838\n",
            "Epoch 44/100\n",
            "3/3 [==============================] - 0s 10ms/step - loss: 6.6433 - mse: 6.6433\n",
            "Epoch 45/100\n",
            "3/3 [==============================] - 0s 7ms/step - loss: 6.0773 - mse: 6.0773\n",
            "Epoch 46/100\n",
            "3/3 [==============================] - 0s 6ms/step - loss: 5.5610 - mse: 5.5610\n",
            "Epoch 47/100\n",
            "3/3 [==============================] - 0s 5ms/step - loss: 5.1153 - mse: 5.1153\n",
            "Epoch 48/100\n",
            "3/3 [==============================] - 0s 5ms/step - loss: 4.6330 - mse: 4.6330\n",
            "Epoch 49/100\n",
            "3/3 [==============================] - 0s 5ms/step - loss: 4.1842 - mse: 4.1842\n",
            "Epoch 50/100\n",
            "3/3 [==============================] - 0s 5ms/step - loss: 3.7285 - mse: 3.7285\n",
            "Epoch 51/100\n",
            "3/3 [==============================] - 0s 6ms/step - loss: 3.3102 - mse: 3.3102\n",
            "Epoch 52/100\n",
            "3/3 [==============================] - 0s 4ms/step - loss: 2.9251 - mse: 2.9251\n",
            "Epoch 53/100\n",
            "3/3 [==============================] - 0s 7ms/step - loss: 2.5229 - mse: 2.5229\n",
            "Epoch 54/100\n",
            "3/3 [==============================] - 0s 6ms/step - loss: 2.2043 - mse: 2.2043\n",
            "Epoch 55/100\n",
            "3/3 [==============================] - 0s 6ms/step - loss: 1.8632 - mse: 1.8632\n",
            "Epoch 56/100\n",
            "3/3 [==============================] - 0s 6ms/step - loss: 1.5876 - mse: 1.5876\n",
            "Epoch 57/100\n",
            "3/3 [==============================] - 0s 5ms/step - loss: 1.3434 - mse: 1.3434\n",
            "Epoch 58/100\n",
            "3/3 [==============================] - 0s 6ms/step - loss: 1.1084 - mse: 1.1084\n",
            "Epoch 59/100\n",
            "3/3 [==============================] - 0s 5ms/step - loss: 0.8902 - mse: 0.8902\n",
            "Epoch 60/100\n",
            "3/3 [==============================] - 0s 6ms/step - loss: 0.7275 - mse: 0.7275\n",
            "Epoch 61/100\n",
            "3/3 [==============================] - 0s 5ms/step - loss: 0.5694 - mse: 0.5694\n",
            "Epoch 62/100\n",
            "3/3 [==============================] - 0s 6ms/step - loss: 0.4439 - mse: 0.4439\n",
            "Epoch 63/100\n",
            "3/3 [==============================] - 0s 6ms/step - loss: 0.3401 - mse: 0.3401\n",
            "Epoch 64/100\n",
            "3/3 [==============================] - 0s 5ms/step - loss: 0.2587 - mse: 0.2587\n",
            "Epoch 65/100\n",
            "3/3 [==============================] - 0s 5ms/step - loss: 0.1895 - mse: 0.1895\n",
            "Epoch 66/100\n",
            "3/3 [==============================] - 0s 5ms/step - loss: 0.1368 - mse: 0.1368\n",
            "Epoch 67/100\n",
            "3/3 [==============================] - 0s 6ms/step - loss: 0.0969 - mse: 0.0969\n",
            "Epoch 68/100\n",
            "3/3 [==============================] - 0s 7ms/step - loss: 0.0673 - mse: 0.0673\n",
            "Epoch 69/100\n",
            "3/3 [==============================] - 0s 7ms/step - loss: 0.0479 - mse: 0.0479\n",
            "Epoch 70/100\n",
            "3/3 [==============================] - 0s 5ms/step - loss: 0.0337 - mse: 0.0337\n",
            "Epoch 71/100\n",
            "3/3 [==============================] - 0s 5ms/step - loss: 0.0235 - mse: 0.0235\n",
            "Epoch 72/100\n",
            "3/3 [==============================] - 0s 6ms/step - loss: 0.0178 - mse: 0.0178\n",
            "Epoch 73/100\n",
            "3/3 [==============================] - 0s 5ms/step - loss: 0.0142 - mse: 0.0142\n",
            "Epoch 74/100\n",
            "3/3 [==============================] - 0s 6ms/step - loss: 0.0113 - mse: 0.0113\n",
            "Epoch 75/100\n",
            "3/3 [==============================] - 0s 5ms/step - loss: 0.0104 - mse: 0.0104\n",
            "Epoch 76/100\n",
            "3/3 [==============================] - 0s 5ms/step - loss: 0.0102 - mse: 0.0102    \n",
            "Epoch 77/100\n",
            "3/3 [==============================] - 0s 7ms/step - loss: 0.0100 - mse: 0.0100\n",
            "Epoch 78/100\n",
            "3/3 [==============================] - 0s 5ms/step - loss: 0.0102 - mse: 0.0102\n",
            "Epoch 79/100\n",
            "3/3 [==============================] - 0s 5ms/step - loss: 0.0107 - mse: 0.0107    \n",
            "Epoch 80/100\n",
            "3/3 [==============================] - 0s 6ms/step - loss: 0.0107 - mse: 0.0107\n",
            "Epoch 81/100\n",
            "3/3 [==============================] - 0s 6ms/step - loss: 0.0107 - mse: 0.0107    \n",
            "Epoch 82/100\n",
            "3/3 [==============================] - 0s 6ms/step - loss: 0.0107 - mse: 0.0107    \n",
            "Epoch 83/100\n",
            "3/3 [==============================] - 0s 6ms/step - loss: 0.0107 - mse: 0.0107\n",
            "Epoch 84/100\n",
            "3/3 [==============================] - 0s 5ms/step - loss: 0.0107 - mse: 0.0107    \n",
            "Epoch 85/100\n",
            "3/3 [==============================] - 0s 6ms/step - loss: 0.0105 - mse: 0.0105    \n",
            "Epoch 86/100\n",
            "3/3 [==============================] - 0s 7ms/step - loss: 0.0106 - mse: 0.0106\n",
            "Epoch 87/100\n",
            "3/3 [==============================] - 0s 8ms/step - loss: 0.0103 - mse: 0.0103\n",
            "Epoch 88/100\n",
            "3/3 [==============================] - 0s 8ms/step - loss: 0.0104 - mse: 0.0104    \n",
            "Epoch 89/100\n",
            "3/3 [==============================] - 0s 6ms/step - loss: 0.0103 - mse: 0.0103\n",
            "Epoch 90/100\n",
            "3/3 [==============================] - 0s 7ms/step - loss: 0.0102 - mse: 0.0102\n",
            "Epoch 91/100\n",
            "3/3 [==============================] - 0s 6ms/step - loss: 0.0103 - mse: 0.0103\n",
            "Epoch 92/100\n",
            "3/3 [==============================] - 0s 8ms/step - loss: 0.0102 - mse: 0.0102\n",
            "Epoch 93/100\n",
            "3/3 [==============================] - 0s 5ms/step - loss: 0.0101 - mse: 0.0101\n",
            "Epoch 94/100\n",
            "3/3 [==============================] - 0s 7ms/step - loss: 0.0101 - mse: 0.0101    \n",
            "Epoch 95/100\n",
            "3/3 [==============================] - 0s 6ms/step - loss: 0.0102 - mse: 0.0102\n",
            "Epoch 96/100\n",
            "3/3 [==============================] - 0s 5ms/step - loss: 0.0101 - mse: 0.0101\n",
            "Epoch 97/100\n",
            "3/3 [==============================] - 0s 5ms/step - loss: 0.0101 - mse: 0.0101    \n",
            "Epoch 98/100\n",
            "3/3 [==============================] - 0s 6ms/step - loss: 0.0101 - mse: 0.0101\n",
            "Epoch 99/100\n",
            "3/3 [==============================] - 0s 6ms/step - loss: 0.0100 - mse: 0.0100    \n",
            "Epoch 100/100\n",
            "3/3 [==============================] - 0s 5ms/step - loss: 0.0100 - mse: 0.0100\n"
          ]
        },
        {
          "output_type": "execute_result",
          "data": {
            "text/plain": [
              "<keras.callbacks.History at 0x7f39b2217290>"
            ]
          },
          "metadata": {},
          "execution_count": 11
        }
      ]
    },
    {
      "cell_type": "code",
      "source": [
        "#4. 예측\n",
        "x_predict = np.array([[4,5,6,7,8]])\n",
        "print(x_predict.shape) #(1,5)\n",
        "x_predict = x_predict.reshape(x_predict.shape[0],x_predict.shape[1], 1)\n",
        "print(\"x_predict.shape : \", x_predict.shape) # (1,5,1)\n",
        "\n",
        "y_predict = model.predict(x_predict)\n",
        "print(\"예측값 :\", y_predict)"
      ],
      "metadata": {
        "colab": {
          "base_uri": "https://localhost:8080/"
        },
        "id": "s4CLDiaWdzyj",
        "outputId": "1137d9db-25b1-4f44-9be7-9ef04a7067fd"
      },
      "execution_count": 12,
      "outputs": [
        {
          "output_type": "stream",
          "name": "stdout",
          "text": [
            "(1, 5)\n",
            "x_predict.shape :  (1, 5, 1)\n",
            "예측값 : [[9.217689]]\n"
          ]
        }
      ]
    }
  ]
}